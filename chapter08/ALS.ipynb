{
 "cells": [
  {
   "cell_type": "code",
   "execution_count": 9,
   "metadata": {},
   "outputs": [
    {
     "name": "stdout",
     "output_type": "stream",
     "text": [
      "/opt/conda/bin/python\n",
      "              0                   1                   2    3     4\n",
      "summary   count                mean              stddev  min   max\n",
      "userId   100003   462.4708758737238  266.62245405929286    0   943\n",
      "movieId  100003  425.52094437166886   330.7977655087594    1  1682\n",
      "rating   100003   3.529834104976851  1.1257051368972655  1.0   5.0\n",
      "Root-mean-square error = 0.9185707624952067\n"
     ]
    }
   ],
   "source": [
    "import os,sys\n",
    "print(sys.executable)\n",
    "from pyspark.sql import SparkSession\n",
    "from pyspark.ml.recommendation import ALS\n",
    "from pyspark.sql.types import *\n",
    "from pyspark.ml.evaluation import RegressionEvaluator\n",
    "from pyspark.ml.tuning import ParamGridBuilder, TrainValidationSplit\n",
    "\n",
    "\n",
    "\n",
    "\n",
    "\n",
    "\n",
    "\n",
    "spark = SparkSession \\\n",
    "    .builder \\\n",
    "    .appName(\"Spark ML App\") \\\n",
    "     .getOrCreate()\n",
    "\n",
    "schema = StructType([ \\\n",
    "    StructField(\"userId\",  IntegerType()), \\\n",
    "    StructField(\"movieId\", IntegerType()), \\\n",
    "    StructField(\"rating\", FloatType())])\n",
    "\n",
    "ratings = spark.read.format(\"csv\")\\\n",
    ".options(header='false') \\\n",
    ".option(\"delimiter\",\"\\\\t\") \\\n",
    ".schema(schema) \\\n",
    ".load(\"resources/sample_movies_users.data\")\n",
    "print(ratings.describe().toPandas().transpose())\n",
    "\n",
    "(training, test) = ratings.randomSplit([0.8, 0.2])\n",
    "als = ALS(rank=10, maxIter=10,userCol='userId', itemCol='movieId', ratingCol='rating', regParam=0.1, coldStartStrategy=\"drop\")\n",
    "alsModel = als.fit(training)\n",
    "\n",
    "predictions = alsModel.transform(test)\n",
    "evaluator = RegressionEvaluator(metricName=\"rmse\", labelCol=\"rating\",\n",
    "                                predictionCol=\"prediction\")\n",
    "rmse = evaluator.evaluate(predictions)\n",
    "print(\"Root-mean-square error = \" + str(rmse))\n",
    "\n",
    "\n",
    "\n",
    "testDF = spark.createDataFrame(\n",
    "     [(0, 50, -1), (0, 172, -1), (0, 133, -1)],\n",
    "   [\"userId\", \"movieId\", \"rating\"])\n",
    "predictionDF=alsModel.transform(testDF);\n",
    "\n",
    "\n",
    "\n",
    "\n",
    "\n",
    "\n",
    "\n",
    "spark.stop()\n",
    "\n"
   ]
  },
  {
   "cell_type": "code",
   "execution_count": null,
   "metadata": {
    "collapsed": true
   },
   "outputs": [],
   "source": []
  }
 ],
 "metadata": {
  "kernelspec": {
   "display_name": "Python 3",
   "language": "python",
   "name": "python3"
  },
  "language_info": {
   "codemirror_mode": {
    "name": "ipython",
    "version": 3
   },
   "file_extension": ".py",
   "mimetype": "text/x-python",
   "name": "python",
   "nbconvert_exporter": "python",
   "pygments_lexer": "ipython3",
   "version": "3.6.2"
  }
 },
 "nbformat": 4,
 "nbformat_minor": 2
}
