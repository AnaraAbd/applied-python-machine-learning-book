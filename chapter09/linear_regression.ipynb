{
 "cells": [
  {
   "cell_type": "code",
   "execution_count": 1,
   "metadata": {},
   "outputs": [
    {
     "name": "stdout",
     "output_type": "stream",
     "text": [
      "Trained model: 3.282x + 7.845\n"
     ]
    }
   ],
   "source": [
    "import numpy as np\n",
    "import tensorflow as tf\n",
    "\n",
    "#Declare place holder for Training Data\n",
    "X = tf.placeholder(\"float\")\n",
    "Y = tf.placeholder(\"float\")\n",
    "\n",
    "# The model is  f(x)=bX+b0.\n",
    "B = tf.Variable([1.0, 1.0], name=\"B\")\n",
    "\n",
    "# define the linear formula function  f(x)\n",
    "f = tf.multiply( B[0],X) + B[1]\n",
    "# define the loss/cost function\n",
    "loss = tf.square(Y - f)\n",
    "# define the optimizer\n",
    "optimizer = tf.train.GradientDescentOptimizer(0.01).minimize(loss)\n",
    "# Normal TensorFlow - initialize values, create a session and run the model\n",
    "model = tf.global_variables_initializer()\n",
    "\n",
    "with tf.Session() as session:\n",
    "    session.run(model)\n",
    "    for i in range(1000):\n",
    "        xVal = np.random.rand()\n",
    "        yVal = xVal * 3 + 8\n",
    "        session.run(optimizer, feed_dict={X: xVal, Y: yVal})\n",
    "\n",
    "    B_PREDICTED = session.run(B)\n",
    "    writer = tf.summary.FileWriter(\"/notebooks/output\", session.graph )\n",
    "    writer.flush()\n",
    "    writer.close()\n",
    "    \n",
    "    print(\"Trained model: {m:.3f}x + {n:.3f}\".format(m=B_PREDICTED[0],n=B_PREDICTED[1]))\n",
    "\n"
   ]
  },
  {
   "cell_type": "code",
   "execution_count": null,
   "metadata": {
    "collapsed": true
   },
   "outputs": [],
   "source": []
  }
 ],
 "metadata": {
  "kernelspec": {
   "display_name": "Python 2",
   "language": "python",
   "name": "python2"
  },
  "language_info": {
   "codemirror_mode": {
    "name": "ipython",
    "version": 2
   },
   "file_extension": ".py",
   "mimetype": "text/x-python",
   "name": "python",
   "nbconvert_exporter": "python",
   "pygments_lexer": "ipython2",
   "version": "2.7.12"
  }
 },
 "nbformat": 4,
 "nbformat_minor": 2
}
