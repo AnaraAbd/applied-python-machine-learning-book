{
 "cells": [
  {
   "cell_type": "code",
   "execution_count": 1,
   "metadata": {},
   "outputs": [
    {
     "name": "stdout",
     "output_type": "stream",
     "text": [
      "31.0\n"
     ]
    }
   ],
   "source": [
    "import tensorflow as tf\n",
    "\n",
    "g = tf.Graph()\n",
    "with g.as_default() as g:\n",
    "    \n",
    "    X = tf.placeholder(\"float\", None)\n",
    "\n",
    "    Y = tf.placeholder(\"float\", None)\n",
    "\n",
    "    t1 = tf.multiply(X, Y)\n",
    "\n",
    "    C = tf.constant(7., dtype=tf.float32)\n",
    "\n",
    "    t2=tf.add(C,t1)\n",
    "    \n",
    "    t3 = tf.multiply(Y,Y)\n",
    "    \n",
    "    model=tf.add(t2,t3)\n",
    "\n",
    "\n",
    "with tf.Session(graph=g) as sess:\n",
    "\twriter = tf.summary.FileWriter(\"/notebooks/output\", sess.graph)\n",
    "\tprint( sess.run(model, feed_dict={X: 5., Y: 3.}) )\n",
    " \twriter.flush()\n",
    "\twriter.close()    "
   ]
  },
  {
   "cell_type": "code",
   "execution_count": null,
   "metadata": {
    "collapsed": true
   },
   "outputs": [],
   "source": []
  },
  {
   "cell_type": "code",
   "execution_count": null,
   "metadata": {
    "collapsed": true
   },
   "outputs": [],
   "source": []
  }
 ],
 "metadata": {
  "kernelspec": {
   "display_name": "Python 2",
   "language": "python",
   "name": "python2"
  },
  "language_info": {
   "codemirror_mode": {
    "name": "ipython",
    "version": 2
   },
   "file_extension": ".py",
   "mimetype": "text/x-python",
   "name": "python",
   "nbconvert_exporter": "python",
   "pygments_lexer": "ipython2",
   "version": "2.7.12"
  }
 },
 "nbformat": 4,
 "nbformat_minor": 2
}
